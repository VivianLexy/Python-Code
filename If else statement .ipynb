{
 "cells": [
  {
   "cell_type": "code",
   "execution_count": 1,
   "id": "e5e557b7",
   "metadata": {},
   "outputs": [
    {
     "name": "stdout",
     "output_type": "stream",
     "text": [
      "It worked\n"
     ]
    }
   ],
   "source": [
    "if 25 > 10:\n",
    "    print('It worked')"
   ]
  },
  {
   "cell_type": "code",
   "execution_count": 2,
   "id": "64db9e73",
   "metadata": {},
   "outputs": [
    {
     "name": "stdout",
     "output_type": "stream",
     "text": [
      "It did not work\n"
     ]
    }
   ],
   "source": [
    "if 25 < 10:\n",
    "    print('It worked')\n",
    "else:\n",
    "    print('It did not work')"
   ]
  },
  {
   "cell_type": "code",
   "execution_count": 4,
   "id": "3bbb9713",
   "metadata": {},
   "outputs": [
    {
     "name": "stdout",
     "output_type": "stream",
     "text": [
      "It worked\n"
     ]
    }
   ],
   "source": [
    "if 25 > 10:\n",
    "    print('It worked')\n",
    "else:\n",
    "    print('It did not work')"
   ]
  },
  {
   "cell_type": "code",
   "execution_count": 6,
   "id": "4bea6272",
   "metadata": {},
   "outputs": [
    {
     "name": "stdout",
     "output_type": "stream",
     "text": [
      "elif 3 worked\n"
     ]
    }
   ],
   "source": [
    "if 25 < 10:\n",
    "    print('It worked')\n",
    "elif 25 < 20:\n",
    "    print('elif worked')\n",
    "elif 25 < 21:\n",
    "    print('elif 2 worked')\n",
    "elif 25 < 40:\n",
    "    print('elif 3 worked')\n",
    "elif 25 < 50:\n",
    "    print('elif 4 worked')\n",
    "else:\n",
    "    print('It did not work')"
   ]
  },
  {
   "cell_type": "code",
   "execution_count": 7,
   "id": "f868af8e",
   "metadata": {},
   "outputs": [
    {
     "name": "stdout",
     "output_type": "stream",
     "text": [
      "It worked!\n"
     ]
    }
   ],
   "source": [
    "if (25 < 10) or (1 < 3):\n",
    "    print('It worked!')\n",
    "elif 25 < 20:\n",
    "    print('elif worked')\n",
    "elif 25 < 21:\n",
    "    print('elif 2 worked')\n",
    "elif 25 < 40:\n",
    "    print('elif 3 worked')\n",
    "elif 25 < 50:\n",
    "    print('elif 4 worked')\n",
    "else:\n",
    "    print('It did not work')"
   ]
  },
  {
   "cell_type": "code",
   "execution_count": 8,
   "id": "5d359260",
   "metadata": {},
   "outputs": [
    {
     "name": "stdout",
     "output_type": "stream",
     "text": [
      "It worked!\n",
      "This nested statement worked\n"
     ]
    }
   ],
   "source": [
    "if (25 < 10) or (1 < 3):\n",
    "    print('It worked!')\n",
    "    if 10 > 5:\n",
    "        print('This nested statement worked')\n",
    "elif 25 < 20:\n",
    "    print('elif worked')\n",
    "elif 25 < 21:\n",
    "    print('elif 2 worked')\n",
    "elif 25 < 40:\n",
    "    print('elif 3 worked')\n",
    "elif 25 < 50:\n",
    "    print('elif 4 worked')\n",
    "else:\n",
    "    print('It did not work')"
   ]
  },
  {
   "cell_type": "code",
   "execution_count": null,
   "id": "9b4d43f2",
   "metadata": {},
   "outputs": [],
   "source": []
  }
 ],
 "metadata": {
  "kernelspec": {
   "display_name": "Python 3 (ipykernel)",
   "language": "python",
   "name": "python3"
  },
  "language_info": {
   "codemirror_mode": {
    "name": "ipython",
    "version": 3
   },
   "file_extension": ".py",
   "mimetype": "text/x-python",
   "name": "python",
   "nbconvert_exporter": "python",
   "pygments_lexer": "ipython3",
   "version": "3.11.7"
  }
 },
 "nbformat": 4,
 "nbformat_minor": 5
}
